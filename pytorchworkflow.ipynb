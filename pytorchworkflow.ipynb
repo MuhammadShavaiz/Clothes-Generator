{
  "nbformat": 4,
  "nbformat_minor": 0,
  "metadata": {
    "colab": {
      "provenance": [],
      "authorship_tag": "ABX9TyOwTMad0JSY2BxCVtkmR8aC",
      "include_colab_link": true
    },
    "kernelspec": {
      "name": "python3",
      "display_name": "Python 3"
    },
    "language_info": {
      "name": "python"
    }
  },
  "cells": [
    {
      "cell_type": "markdown",
      "metadata": {
        "id": "view-in-github",
        "colab_type": "text"
      },
      "source": [
        "<a href=\"https://colab.research.google.com/github/MuhammadShavaiz/Clothes-Generator/blob/main/pytorchworkflow.ipynb\" target=\"_parent\"><img src=\"https://colab.research.google.com/assets/colab-badge.svg\" alt=\"Open In Colab\"/></a>"
      ]
    },
    {
      "cell_type": "code",
      "execution_count": 14,
      "metadata": {
        "id": "pRRSOVcu4vR6"
      },
      "outputs": [],
      "source": [
        "import torch\n",
        "import numpy as np\n",
        "import matplotlib.pyplot as plt\n",
        "import torch.nn as nn"
      ]
    },
    {
      "cell_type": "code",
      "source": [
        "x = torch.arange(0,5,0.2)\n",
        "w = 0.5\n",
        "b=0.1\n",
        "y = b+w*x\n",
        "print(x)\n",
        "print(y)"
      ],
      "metadata": {
        "colab": {
          "base_uri": "https://localhost:8080/"
        },
        "id": "_bIizKFx4wav",
        "outputId": "c371134b-b2a6-41d0-804b-46a2d6d2d797"
      },
      "execution_count": 15,
      "outputs": [
        {
          "output_type": "stream",
          "name": "stdout",
          "text": [
            "tensor([0.0000, 0.2000, 0.4000, 0.6000, 0.8000, 1.0000, 1.2000, 1.4000, 1.6000,\n",
            "        1.8000, 2.0000, 2.2000, 2.4000, 2.6000, 2.8000, 3.0000, 3.2000, 3.4000,\n",
            "        3.6000, 3.8000, 4.0000, 4.2000, 4.4000, 4.6000, 4.8000])\n",
            "tensor([0.1000, 0.2000, 0.3000, 0.4000, 0.5000, 0.6000, 0.7000, 0.8000, 0.9000,\n",
            "        1.0000, 1.1000, 1.2000, 1.3000, 1.4000, 1.5000, 1.6000, 1.7000, 1.8000,\n",
            "        1.9000, 2.0000, 2.1000, 2.2000, 2.3000, 2.4000, 2.5000])\n"
          ]
        }
      ]
    },
    {
      "cell_type": "code",
      "source": [
        "X_train = x[:20]\n",
        "X_test = x[20:]\n",
        "y_train = y[:20]\n",
        "y_test = y[20:]"
      ],
      "metadata": {
        "id": "-AiikAPV4yWk"
      },
      "execution_count": 16,
      "outputs": []
    },
    {
      "cell_type": "code",
      "source": [
        "plt.scatter(X_train, y_train, c = 'b', label = \"training data\")\n",
        "plt.scatter(X_test, y_test, c = 'g', label = \"test data\")\n",
        "plt.xlabel('x values')\n",
        "plt.ylabel('y values')\n",
        "plt.legend()\n",
        "\n"
      ],
      "metadata": {
        "colab": {
          "base_uri": "https://localhost:8080/",
          "height": 466
        },
        "id": "eB9P5wZ35D2s",
        "outputId": "778230a5-3967-4f45-c161-5f6c881736cb"
      },
      "execution_count": 17,
      "outputs": [
        {
          "output_type": "execute_result",
          "data": {
            "text/plain": [
              "<matplotlib.legend.Legend at 0x7ca58638bb80>"
            ]
          },
          "metadata": {},
          "execution_count": 17
        },
        {
          "output_type": "display_data",
          "data": {
            "text/plain": [
              "<Figure size 640x480 with 1 Axes>"
            ],
            "image/png": "[encoded data removed]"
          },
          "metadata": {}
        }
      ]
    },
    {
      "cell_type": "code",
      "source": [
        "class LinearRegressionModel(nn.Module):\n",
        "  def __init__(self):\n",
        "    super().__init__()\n",
        "    self.weights = nn.Parameter(torch.randn(1,requires_grad=True, dtype=torch.float))\n",
        "    self.bias = nn.Parameter(torch.randn(1, requires_grad=True, dtype=torch.float))\n",
        "\n",
        "  def forward(self, x:torch.Tensor) ->torch.Tensor:\n",
        "    return self.weights*x + self.bias"
      ],
      "metadata": {
        "id": "XVMZoieU5X8B"
      },
      "execution_count": 18,
      "outputs": []
    },
    {
      "cell_type": "code",
      "source": [
        "model_0 = LinearRegressionModel()\n",
        "list(model_0.parameters())\n",
        "model_0.state_dict()\n"
      ],
      "metadata": {
        "colab": {
          "base_uri": "https://localhost:8080/"
        },
        "id": "ujxbkdyuP1zB",
        "outputId": "d4da2627-ffe0-4369-d30c-6d8522c014ab"
      },
      "execution_count": 19,
      "outputs": [
        {
          "output_type": "execute_result",
          "data": {
            "text/plain": [
              "OrderedDict([('weights', tensor([-0.9907])), ('bias', tensor([0.3432]))])"
            ]
          },
          "metadata": {},
          "execution_count": 19
        }
      ]
    },
    {
      "cell_type": "code",
      "source": [
        "loss_fn = nn.L1Loss()\n",
        "\n",
        "optimizer = torch.optim.SGD(params = model_0.parameters(), lr = 0.01)\n"
      ],
      "metadata": {
        "id": "HbUh_NP4P9Q5"
      },
      "execution_count": 20,
      "outputs": []
    },
    {
      "cell_type": "code",
      "source": [
        "epochs = 200\n",
        "epoch_list = []\n",
        "loss_list = []\n",
        "test_loss_list = []\n",
        "for epoch in range(epochs):\n",
        "  model_0.train()\n",
        "  y_pred = model_0(X_train)\n",
        "  loss = loss_fn(y_pred, y_train)\n",
        "  optimizer.zero_grad()\n",
        "  loss.backward()\n",
        "  optimizer.step()\n",
        "\n",
        "  model_0.eval()\n",
        "  with torch.inference_mode():\n",
        "    test_pred = model_0(X_test)\n",
        "    test_loss = loss_fn(test_pred, y_test)\n",
        "    if epoch%10 == 0:\n",
        "      epoch_list.append(epoch)\n",
        "      loss_list.append(loss)\n",
        "      test_loss_list.append(test_loss)\n",
        "      print(f\"Epoch: {epoch} loss: {loss} Test_Loss: {test_loss}\")"
      ],
      "metadata": {
        "id": "ie7VHcDhQk9Z",
        "colab": {
          "base_uri": "https://localhost:8080/"
        },
        "outputId": "b3c8e336-c1c2-42d6-8b96-04b99f58b106"
      },
      "execution_count": 21,
      "outputs": [
        {
          "output_type": "stream",
          "name": "stdout",
          "text": [
            "Epoch: 0 loss: 2.613501787185669 Test_Loss: 6.223396301269531\n",
            "Epoch: 10 loss: 2.1846871376037598 Test_Loss: 5.308676242828369\n",
            "Epoch: 20 loss: 1.7672468423843384 Test_Loss: 4.401474952697754\n",
            "Epoch: 30 loss: 1.3716490268707275 Test_Loss: 3.5163540840148926\n",
            "Epoch: 40 loss: 1.002876877784729 Test_Loss: 2.6585936546325684\n",
            "Epoch: 50 loss: 0.6825214624404907 Test_Loss: 1.8623535633087158\n",
            "Epoch: 60 loss: 0.44108420610427856 Test_Loss: 1.1703535318374634\n",
            "Epoch: 70 loss: 0.31313949823379517 Test_Loss: 0.6973133683204651\n",
            "Epoch: 80 loss: 0.27164527773857117 Test_Loss: 0.4754334092140198\n",
            "Epoch: 90 loss: 0.25292035937309265 Test_Loss: 0.4055933952331543\n",
            "Epoch: 100 loss: 0.23685626685619354 Test_Loss: 0.37307313084602356\n",
            "Epoch: 110 loss: 0.2206002175807953 Test_Loss: 0.3529927432537079\n",
            "Epoch: 120 loss: 0.20453616976737976 Test_Loss: 0.3204725384712219\n",
            "Epoch: 130 loss: 0.1882801502943039 Test_Loss: 0.30039215087890625\n",
            "Epoch: 140 loss: 0.17221608757972717 Test_Loss: 0.2678719162940979\n",
            "Epoch: 150 loss: 0.1559600532054901 Test_Loss: 0.24779148399829865\n",
            "Epoch: 160 loss: 0.13986876606941223 Test_Loss: 0.21527116000652313\n",
            "Epoch: 170 loss: 0.1236400157213211 Test_Loss: 0.1951906979084015\n",
            "Epoch: 180 loss: 0.10750871896743774 Test_Loss: 0.1626703292131424\n",
            "Epoch: 190 loss: 0.0913199782371521 Test_Loss: 0.14258989691734314\n"
          ]
        }
      ]
    },
    {
      "cell_type": "code",
      "source": [
        "plt.plot(epoch_list, torch.tensor(loss_list).numpy(), label=\"training loss\")\n",
        "plt.plot(epoch_list, test_loss_list, label = \"testing loss\")\n",
        "plt.title(\"training and testing loss\")\n",
        "plt.xlabel(\"epochs\")\n",
        "plt.ylabel(\"loss\")\n",
        "plt.legend()"
      ],
      "metadata": {
        "colab": {
          "base_uri": "https://localhost:8080/",
          "height": 489
        },
        "id": "dnhG8kdW6Fg2",
        "outputId": "f8aea298-f751-4e09-ef8a-3b01a30e8def"
      },
      "execution_count": 26,
      "outputs": [
        {
          "output_type": "execute_result",
          "data": {
            "text/plain": [
              "<matplotlib.legend.Legend at 0x7ca585244280>"
            ]
          },
          "metadata": {},
          "execution_count": 26
        },
        {
          "output_type": "display_data",
          "data": {
            "text/plain": [
              "<Figure size 640x480 with 1 Axes>"
            ],
            "image/png": "[encoded data removed]"
          },
          "metadata": {}
        }
      ]
    },
    {
      "cell_type": "code",
      "source": [
        "from pathlib import Path\n",
        "MODEL_PATH = Path('models')\n",
        "MODEL_NAME = 'python_workflow_01.pth'\n",
        "MODEL_SAVE_PATH = MODEL_PATH / MODEL_NAME\n",
        "torch.save(model_0.state_dict(), MODEL_SAVE_PATH)"
      ],
      "metadata": {
        "id": "UN5dExPM31B1"
      },
      "execution_count": 28,
      "outputs": []
    },
    {
      "cell_type": "code",
      "source": [
        "loaded_model = LinearRegressionModel()\n",
        "loaded_model.load_state_dict(torch.load(MODEL_SAVE_PATH))\n",
        "loaded_model.state_dict()"
      ],
      "metadata": {
        "colab": {
          "base_uri": "https://localhost:8080/"
        },
        "id": "CarX6f6xK56l",
        "outputId": "f112f57d-341c-4f98-b32a-5d4a0bb525a8"
      },
      "execution_count": 29,
      "outputs": [
        {
          "output_type": "execute_result",
          "data": {
            "text/plain": [
              "OrderedDict([('weights', tensor([0.4327])), ('bias', tensor([0.2742]))])"
            ]
          },
          "metadata": {},
          "execution_count": 29
        }
      ]
    },
    {
      "cell_type": "code",
      "source": [],
      "metadata": {
        "id": "G0L4wkm-MVDx"
      },
      "execution_count": null,
      "outputs": []
    }
  ]
}